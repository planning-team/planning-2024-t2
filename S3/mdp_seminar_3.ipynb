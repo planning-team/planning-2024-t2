{
 "cells": [
  {
   "cell_type": "markdown",
   "metadata": {},
   "source": [
    "# Seminar 4: MDP introduction\n",
    "we disccessed in lecture 6 about Markov Decision Process, in this seminar we will practice on some key concepts, without need of prior knowledge."
   ]
  },
  {
   "cell_type": "markdown",
   "metadata": {},
   "source": [
    "## System description\n",
    "Imagine the system, indicated by the transition graph:\n",
    "\n",
    "![alt text](mpd1.png \"Transition Graph\")\n",
    "\n",
    "The state space is $S = \\{s_{moving}, s_{stopped}\\}$ and the action space is $A = \\{a_{wait}, a_{gas}\\}$\n",
    "\n",
    "As explained in class, we will use the joint probbablity:\n",
    "\n",
    "\n",
    "| s'     | s       | a       | p(s'\\|s,a) | r(s',s,a) |\n",
    "|--------|:-------:|:-------:|-----------:|-----------:|\n",
    "| stopped |  stopped |  wait |       1 |  0  |\n",
    "| moving |  stopped |  wait |       0 |  10  |\n",
    "| stopped |  stopped |  gas |       0.3 |  0  |\n",
    "| moving |  stopped |  gas |       0.7 |  10  |\n",
    "| moving |  moving |  gas |       0.999 |  -1  |\n",
    "| stopped |  moving |  gas |       0.001 |  -1000  |\n",
    "| moving |  moving |  wait |       0.9 |  0  |\n",
    "| stopped |  moving |  wait |       0.1 |  -10  |\n",
    "\n",
    "that perfectly describes the problem, all probabilities and outcomes into a compact expression"
   ]
  },
  {
   "cell_type": "markdown",
   "metadata": {},
   "source": [
    "## task 1\n",
    "Calculate what is the expected reward $r(s,a)$ for\n",
    "\n",
    " 1. s=moving and a = wait\n",
    " 2. s=moving and a = gas\n",
    " 3. s=stopped and a = wait"
   ]
  },
  {
   "cell_type": "markdown",
   "metadata": {},
   "source": [
    "The expected reward $r(s, a)$ for a state-action pair is calculated based on the provided transition probabilities and rewards. The formula for expected reward is:\n",
    "$$\n",
    "r(s, a) = \\sum_{s^\\prime}(p(s^\\prime \\mid s, a) * r(s^\\prime, s, a))\n",
    "$$\n",
    "\n",
    "For each of these pairs, we will sum the products of the transition probabilities and the corresponding rewards."
   ]
  },
  {
   "cell_type": "code",
   "execution_count": 3,
   "metadata": {},
   "outputs": [],
   "source": [
    "transition_probabilities = {\n",
    "    \"stopped\": {\n",
    "        \"wait\": [(\"stopped\", 1, 0)],\n",
    "        \"gas\": [(\"stopped\", 0.3, 0), (\"moving\", 0.7, 10)]\n",
    "    },\n",
    "    \"moving\": {\n",
    "        \"wait\": [(\"moving\", 0.9, 0), (\"stopped\", 0.1, -10)],\n",
    "        \"gas\": [(\"moving\", 0.999, -1), (\"stopped\", 0.001, -1000)]\n",
    "    }\n",
    "}"
   ]
  },
  {
   "cell_type": "code",
   "execution_count": 1,
   "metadata": {},
   "outputs": [],
   "source": [
    "def expected_reward(state, action, transition_probabilities):\n",
    "    # your code here\n",
    "\n",
    "print(expected_reward(\"moving\", \"wait\", transition_probabilities))\n",
    "print(expected_reward(\"moving\", \"gas\", transition_probabilities))\n",
    "print(expected_reward(\"stopped\", \"wait\", transition_probabilities))\n"
   ]
  },
  {
   "cell_type": "markdown",
   "metadata": {},
   "source": [
    "## task 2\n",
    "Create a value function data structure and evaluate one iteration of the MDP\n",
    "\n",
    "$$v_{*}(s) = \\max_{a \\in \\mathcal{A}(s)} \\sum_{s',r} p(s',r|s,a) \\left[ r + \\gamma v_*(s')  \\right]$$"
   ]
  },
  {
   "cell_type": "code",
   "execution_count": 5,
   "metadata": {},
   "outputs": [],
   "source": [
    "actions = [\"wait\", \"gas\"]"
   ]
  },
  {
   "cell_type": "code",
   "execution_count": 2,
   "metadata": {},
   "outputs": [],
   "source": [
    "# Function to update the value function based on the current policy\n",
    "def update_value_function(value_function, transition_probabilities, gamma):\n",
    "    new_value_function = {}\n",
    "    for state in value_function:\n",
    "        # your code here\n",
    "    return new_value_function\n",
    "\n",
    "\n",
    "# Example Usage\n",
    "value_function = {state: 0 for state in [\"stopped\", \"moving\"]}\n",
    "updated_value_function = update_value_function(value_function, transition_probabilities, 1)\n",
    "print(updated_value_function)\n"
   ]
  },
  {
   "cell_type": "markdown",
   "metadata": {},
   "source": [
    "## task 3\n",
    "calculate the convergent value function "
   ]
  },
  {
   "cell_type": "code",
   "execution_count": 4,
   "metadata": {},
   "outputs": [],
   "source": [
    "def is_converged(old_value_function, new_value_function, threshold=0.001):\n",
    "    # your code here\n",
    "\n",
    "current_value_function = {state: 0 for state in [\"stopped\", \"moving\"]}\n",
    "while True:\n",
    "    new_value_function = update_value_function(current_value_function, transition_probabilities, 1)\n",
    "    if is_converged(current_value_function, new_value_function):\n",
    "        break\n",
    "    current_value_function = new_value_function\n",
    "\n",
    "print(current_value_function)\n"
   ]
  },
  {
   "cell_type": "markdown",
   "metadata": {},
   "source": [
    "## task 4\n",
    "1. What is the best action to take if you are moving?\n",
    "2. What is the best action to take if you are stopping?"
   ]
  },
  {
   "cell_type": "code",
   "execution_count": 5,
   "metadata": {},
   "outputs": [],
   "source": [
    "# Function to find the best action for a given state\n",
    "def best_action_for_state(state, transition_probabilities, value_function, gamma):\n",
    "    best_action, best_value = None, float('-inf')\n",
    "    for action in actions:\n",
    "        # your code here\n",
    "    return best_action\n",
    "\n",
    "# Example Usage\n",
    "print(best_action_for_state(\"moving\", transition_probabilities, current_value_function, 1))\n",
    "print(best_action_for_state(\"stopped\", transition_probabilities, current_value_function, 1))\n"
   ]
  }
 ],
 "metadata": {
  "kernelspec": {
   "display_name": "Python 3",
   "language": "python",
   "name": "python3"
  },
  "language_info": {
   "codemirror_mode": {
    "name": "ipython",
    "version": 3
   },
   "file_extension": ".py",
   "mimetype": "text/x-python",
   "name": "python",
   "nbconvert_exporter": "python",
   "pygments_lexer": "ipython3",
   "version": "3.8.10"
  }
 },
 "nbformat": 4,
 "nbformat_minor": 4
}
